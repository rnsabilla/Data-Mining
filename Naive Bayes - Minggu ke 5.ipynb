{
  "nbformat": 4,
  "nbformat_minor": 0,
  "metadata": {
    "colab": {
      "name": "Untitled9.ipynb",
      "provenance": [],
      "authorship_tag": "ABX9TyN1X/rGftGFkO4tNPG86cx9",
      "include_colab_link": true
    },
    "kernelspec": {
      "name": "python3",
      "display_name": "Python 3"
    },
    "language_info": {
      "name": "python"
    }
  },
  "cells": [
    {
      "cell_type": "markdown",
      "metadata": {
        "id": "view-in-github",
        "colab_type": "text"
      },
      "source": [
        "<a href=\"https://colab.research.google.com/github/rnsabilla/Data-Mining/blob/main/Naive%20Bayes%20-%20Minggu%20ke%205.ipynb\" target=\"_parent\"><img src=\"https://colab.research.google.com/assets/colab-badge.svg\" alt=\"Open In Colab\"/></a>"
      ]
    },
    {
      "cell_type": "code",
      "execution_count": 1,
      "metadata": {
        "id": "T_qGppoGXxyB"
      },
      "outputs": [],
      "source": [
        "import numpy as np\n",
        "import matplotlib.pyplot as plt\n",
        "import pandas as pd"
      ]
    },
    {
      "cell_type": "code",
      "source": [
        "dataset = pd.read_csv(\"/content/DataNaive.csv\")\n",
        "x = dataset.iloc[:, [2,3]].values\n",
        "y = dataset.iloc[:, -1].values"
      ],
      "metadata": {
        "id": "Irqyn0y8Yb-T"
      },
      "execution_count": 2,
      "outputs": []
    },
    {
      "cell_type": "code",
      "source": [
        "print(x)"
      ],
      "metadata": {
        "colab": {
          "base_uri": "https://localhost:8080/"
        },
        "id": "KiTFYENMYzcO",
        "outputId": "01032c75-dff2-43c1-8799-ef818c3de325"
      },
      "execution_count": 3,
      "outputs": [
        {
          "output_type": "stream",
          "name": "stdout",
          "text": [
            "[[      21   210000]\n",
            " [      19  1900000]\n",
            " [      36  2500000]\n",
            " [      34  3400000]\n",
            " [      28  2800000]\n",
            " [      38  3800000]\n",
            " [      34  3400000]\n",
            " [      17  1700000]\n",
            " [      36  3600000]\n",
            " [      32  3200000]\n",
            " [      28  2800000]\n",
            " [      39  3900000]\n",
            " [      17   170000]\n",
            " [      19  1900000]\n",
            " [      40  4000000]\n",
            " [      21   210000]\n",
            " [      19  1900000]\n",
            " [      36  3600000]\n",
            " [      34   340000]\n",
            " [      28  2800000]\n",
            " [      38  3800000]\n",
            " [      34    34000]\n",
            " [      17  1700000]\n",
            " [      36  3600000]\n",
            " [      32  3200000]\n",
            " [      28  2800000]\n",
            " [      39  3900000]\n",
            " [      17  1700000]\n",
            " [      19  1900000]\n",
            " [      40  4000000]\n",
            " [      21  2100000]\n",
            " [      19  1900000]\n",
            " [      36  3600000]\n",
            " [      34  3400000]\n",
            " [      28  2800000]\n",
            " [      38  3800000]\n",
            " [      34  3400000]\n",
            " [      17  1700000]\n",
            " [      36  3600000]\n",
            " [      32  3200000]\n",
            " [      28  2800000]\n",
            " [      39  3900000]\n",
            " [      17  1700000]\n",
            " [      19  1900000]\n",
            " [      40  4000000]\n",
            " [      21  2100000]\n",
            " [      19  1900000]\n",
            " [      36  3600000]\n",
            " [      34  3400000]\n",
            " [      28  2800000]\n",
            " [      38  3800000]\n",
            " [      34  3400000]\n",
            " [      17 17000000]\n",
            " [      36  3600000]\n",
            " [      32  3200000]\n",
            " [      28  2800000]\n",
            " [      39  3900000]\n",
            " [      17  1700000]\n",
            " [      19  1900000]\n",
            " [      44  4400000]\n",
            " [      21  2100000]\n",
            " [      17  1700000]\n",
            " [      32  3200000]\n",
            " [      34  3400000]\n",
            " [      32  3200000]\n",
            " [      35  3500000]\n",
            " [      39  3900000]\n",
            " [      17  1700000]\n",
            " [      19  1900000]\n",
            " [      44  4400000]\n",
            " [      21  2100000]\n",
            " [      17  1700000]\n",
            " [      32  3200000]\n",
            " [      34  3400000]\n",
            " [      32  3200000]\n",
            " [      35  3500000]\n",
            " [      39  3900000]\n",
            " [      17  1700000]\n",
            " [      19  1900000]\n",
            " [      44  4400000]\n",
            " [      21  2100000]\n",
            " [      17  1700000]\n",
            " [      32  3200000]\n",
            " [      34  3400000]\n",
            " [      32  3200000]\n",
            " [      35  3500000]\n",
            " [      39  3900000]\n",
            " [      17  1700000]\n",
            " [      19  1900000]\n",
            " [      44  4400000]\n",
            " [      21  2100000]\n",
            " [      17  1700000]\n",
            " [      32  3200000]\n",
            " [      34  3400000]\n",
            " [      32  3200000]\n",
            " [      35  3500000]\n",
            " [      39  3900000]\n",
            " [      17  1700000]\n",
            " [      19  1900000]\n",
            " [      44  4400000]\n",
            " [      21  2100000]\n",
            " [      17  1700000]\n",
            " [      32  3200000]\n",
            " [      34  3400000]\n",
            " [      32  3200000]\n",
            " [      35  3500000]\n",
            " [      39  3900000]\n",
            " [      17  1700000]\n",
            " [      19  1900000]\n",
            " [      44  4400000]\n",
            " [      21  2100000]\n",
            " [      17  1700000]\n",
            " [      32  3200000]\n",
            " [      34  3400000]\n",
            " [      32  3200000]\n",
            " [      35  3500000]\n",
            " [      39  3900000]\n",
            " [      17  1700000]\n",
            " [      19  1900000]\n",
            " [      44  4400000]\n",
            " [      21  2100000]\n",
            " [      17  1700000]\n",
            " [      32  3200000]\n",
            " [      34  3400000]\n",
            " [      32  3200000]\n",
            " [      35  3500000]\n",
            " [      39  3900000]\n",
            " [      17  1700000]\n",
            " [      19  1900000]\n",
            " [      44  4400000]\n",
            " [      21  2100000]\n",
            " [      17  1700000]\n",
            " [      32  3200000]\n",
            " [      34  3400000]\n",
            " [      32  3200000]\n",
            " [      35  3500000]\n",
            " [      39  3900000]\n",
            " [      17  1700000]\n",
            " [      19  1900000]\n",
            " [      44  4400000]\n",
            " [      21  2100000]\n",
            " [      17  1700000]\n",
            " [      32  3200000]\n",
            " [      34  3400000]\n",
            " [      32  3200000]\n",
            " [      35  3500000]\n",
            " [      39  3900000]\n",
            " [      17  1700000]\n",
            " [      19  1900000]\n",
            " [      44  4400000]\n",
            " [      21  2100000]\n",
            " [      17  1700000]\n",
            " [      32  3200000]\n",
            " [      34  3400000]\n",
            " [      32  3200000]\n",
            " [      35  3500000]\n",
            " [      39  3900000]\n",
            " [      17  1700000]\n",
            " [      19  1900000]\n",
            " [      44  4400000]\n",
            " [      21  2100000]\n",
            " [      17  1700000]\n",
            " [      32  3200000]\n",
            " [      34  3400000]\n",
            " [      32  3200000]\n",
            " [      35  3500000]\n",
            " [      17  1700000]\n",
            " [      32  3200000]\n",
            " [      35  3500000]\n",
            " [      39  3900000]\n",
            " [      17  1700000]\n",
            " [      19  1900000]\n",
            " [      44  4400000]\n",
            " [      21  2100000]\n",
            " [      17  1700000]\n",
            " [      32  3200000]\n",
            " [      34  3400000]\n",
            " [      32  3200000]\n",
            " [      35  3500000]\n",
            " [      21   210000]\n",
            " [      21   210000]\n",
            " [      17  1700000]\n",
            " [      19  1900000]\n",
            " [      44  4400000]\n",
            " [      21  2100000]\n",
            " [      17  1700000]\n",
            " [      32  3200000]\n",
            " [      34  3400000]\n",
            " [      32  3200000]\n",
            " [      35  3500000]\n",
            " [      21   210000]\n",
            " [      21   210000]\n",
            " [      17  1700000]\n",
            " [      32  3200000]\n",
            " [      34  3400000]\n",
            " [      32  3200000]\n",
            " [      35  3500000]\n",
            " [      21   210000]\n",
            " [      21   210000]]\n"
          ]
        }
      ]
    },
    {
      "cell_type": "code",
      "source": [
        "print(y)"
      ],
      "metadata": {
        "colab": {
          "base_uri": "https://localhost:8080/"
        },
        "id": "BZYeEzWscMZT",
        "outputId": "923fdd82-8b8e-43aa-888e-39b08afa0990"
      },
      "execution_count": 4,
      "outputs": [
        {
          "output_type": "stream",
          "name": "stdout",
          "text": [
            "[0 1 0 0 0 0 1 0 1 0 0 1 0 0 1 0 0 0 0 1 0 1 0 0 1 0 0 1 0 0 0 0 1 0 1 0 0\n",
            " 1 0 0 1 0 0 0 0 1 0 1 0 0 1 0 0 1 0 0 0 0 1 0 1 0 0 1 0 0 1 0 0 0 0 1 0 1\n",
            " 0 0 1 0 0 0 1 0 0 0 0 1 0 1 0 0 1 0 0 1 0 0 0 0 1 0 1 0 0 1 0 0 1 0 0 0 0\n",
            " 1 0 1 0 0 1 0 0 1 0 0 0 0 1 0 1 0 0 1 0 0 1 0 0 0 0 1 0 1 0 0 1 0 0 1 0 0\n",
            " 0 0 1 0 1 0 0 1 0 0 0 1 0 0 0 0 1 0 1 0 0 1 0 0 1 0 0 0 0 1 0 1 0 0 1 0 0\n",
            " 1 0 0 0 0 1 0 1 0 0 1 0 0 1]\n"
          ]
        }
      ]
    },
    {
      "cell_type": "code",
      "source": [
        "from sklearn.model_selection import train_test_split\n",
        "x_train, x_test, y_train, y_test = train_test_split(x,y, test_size=0.25, random_state=0)"
      ],
      "metadata": {
        "id": "wLvgA2YBcOaB"
      },
      "execution_count": 5,
      "outputs": []
    },
    {
      "cell_type": "code",
      "source": [
        "print(x_train)"
      ],
      "metadata": {
        "colab": {
          "base_uri": "https://localhost:8080/"
        },
        "id": "EiN_9weFcTjp",
        "outputId": "64f1b8ce-ec33-4725-cfc7-50ccbe4e6b4f"
      },
      "execution_count": 6,
      "outputs": [
        {
          "output_type": "stream",
          "name": "stdout",
          "text": [
            "[[      17  1700000]\n",
            " [      35  3500000]\n",
            " [      39  3900000]\n",
            " [      39  3900000]\n",
            " [      44  4400000]\n",
            " [      32  3200000]\n",
            " [      21  2100000]\n",
            " [      34  3400000]\n",
            " [      28  2800000]\n",
            " [      39  3900000]\n",
            " [      21  2100000]\n",
            " [      19  1900000]\n",
            " [      21   210000]\n",
            " [      28  2800000]\n",
            " [      32  3200000]\n",
            " [      39  3900000]\n",
            " [      32  3200000]\n",
            " [      32  3200000]\n",
            " [      34  3400000]\n",
            " [      32  3200000]\n",
            " [      19  1900000]\n",
            " [      44  4400000]\n",
            " [      21  2100000]\n",
            " [      34  3400000]\n",
            " [      34  3400000]\n",
            " [      17  1700000]\n",
            " [      19  1900000]\n",
            " [      40  4000000]\n",
            " [      17  1700000]\n",
            " [      17  1700000]\n",
            " [      19  1900000]\n",
            " [      19  1900000]\n",
            " [      34  3400000]\n",
            " [      17  1700000]\n",
            " [      32  3200000]\n",
            " [      36  2500000]\n",
            " [      44  4400000]\n",
            " [      21  2100000]\n",
            " [      39  3900000]\n",
            " [      19  1900000]\n",
            " [      28  2800000]\n",
            " [      32  3200000]\n",
            " [      34  3400000]\n",
            " [      21   210000]\n",
            " [      32  3200000]\n",
            " [      32  3200000]\n",
            " [      35  3500000]\n",
            " [      34  3400000]\n",
            " [      17  1700000]\n",
            " [      17  1700000]\n",
            " [      21   210000]\n",
            " [      38  3800000]\n",
            " [      21   210000]\n",
            " [      32  3200000]\n",
            " [      44  4400000]\n",
            " [      35  3500000]\n",
            " [      32  3200000]\n",
            " [      17  1700000]\n",
            " [      39  3900000]\n",
            " [      44  4400000]\n",
            " [      28  2800000]\n",
            " [      34  3400000]\n",
            " [      35  3500000]\n",
            " [      19  1900000]\n",
            " [      21  2100000]\n",
            " [      36  3600000]\n",
            " [      17  1700000]\n",
            " [      32  3200000]\n",
            " [      38  3800000]\n",
            " [      21   210000]\n",
            " [      19  1900000]\n",
            " [      32  3200000]\n",
            " [      17 17000000]\n",
            " [      21  2100000]\n",
            " [      39  3900000]\n",
            " [      34  3400000]\n",
            " [      39  3900000]\n",
            " [      34  3400000]\n",
            " [      21   210000]\n",
            " [      34  3400000]\n",
            " [      19  1900000]\n",
            " [      32  3200000]\n",
            " [      17  1700000]\n",
            " [      32  3200000]\n",
            " [      17  1700000]\n",
            " [      35  3500000]\n",
            " [      17  1700000]\n",
            " [      19  1900000]\n",
            " [      39  3900000]\n",
            " [      44  4400000]\n",
            " [      32  3200000]\n",
            " [      38  3800000]\n",
            " [      17  1700000]\n",
            " [      35  3500000]\n",
            " [      19  1900000]\n",
            " [      21  2100000]\n",
            " [      17  1700000]\n",
            " [      17  1700000]\n",
            " [      35  3500000]\n",
            " [      32  3200000]\n",
            " [      21   210000]\n",
            " [      36  3600000]\n",
            " [      36  3600000]\n",
            " [      34  3400000]\n",
            " [      36  3600000]\n",
            " [      39  3900000]\n",
            " [      19  1900000]\n",
            " [      28  2800000]\n",
            " [      19  1900000]\n",
            " [      32  3200000]\n",
            " [      17  1700000]\n",
            " [      19  1900000]\n",
            " [      21   210000]\n",
            " [      17  1700000]\n",
            " [      32  3200000]\n",
            " [      36  3600000]\n",
            " [      32  3200000]\n",
            " [      35  3500000]\n",
            " [      17  1700000]\n",
            " [      40  4000000]\n",
            " [      44  4400000]\n",
            " [      32  3200000]\n",
            " [      44  4400000]\n",
            " [      35  3500000]\n",
            " [      19  1900000]\n",
            " [      32  3200000]\n",
            " [      32  3200000]\n",
            " [      17  1700000]\n",
            " [      28  2800000]\n",
            " [      35  3500000]\n",
            " [      17  1700000]\n",
            " [      34  3400000]\n",
            " [      17  1700000]\n",
            " [      35  3500000]\n",
            " [      32  3200000]\n",
            " [      19  1900000]\n",
            " [      21  2100000]\n",
            " [      19  1900000]\n",
            " [      21  2100000]\n",
            " [      17  1700000]\n",
            " [      34  3400000]\n",
            " [      34    34000]\n",
            " [      32  3200000]\n",
            " [      34  3400000]\n",
            " [      17  1700000]\n",
            " [      17  1700000]\n",
            " [      17  1700000]\n",
            " [      36  3600000]\n",
            " [      44  4400000]]\n"
          ]
        }
      ]
    },
    {
      "cell_type": "code",
      "source": [
        "print(x_test)"
      ],
      "metadata": {
        "colab": {
          "base_uri": "https://localhost:8080/"
        },
        "id": "rb_q1MvFcwDo",
        "outputId": "08498008-89d2-4ed3-8177-54b09c70c63b"
      },
      "execution_count": 8,
      "outputs": [
        {
          "output_type": "stream",
          "name": "stdout",
          "text": [
            "[[     34  340000]\n",
            " [     39 3900000]\n",
            " [     39 3900000]\n",
            " [     32 3200000]\n",
            " [     34 3400000]\n",
            " [     44 4400000]\n",
            " [     38 3800000]\n",
            " [     44 4400000]\n",
            " [     17  170000]\n",
            " [     21 2100000]\n",
            " [     17 1700000]\n",
            " [     32 3200000]\n",
            " [     32 3200000]\n",
            " [     35 3500000]\n",
            " [     21 2100000]\n",
            " [     17 1700000]\n",
            " [     34 3400000]\n",
            " [     44 4400000]\n",
            " [     17 1700000]\n",
            " [     32 3200000]\n",
            " [     44 4400000]\n",
            " [     32 3200000]\n",
            " [     21 2100000]\n",
            " [     19 1900000]\n",
            " [     21 2100000]\n",
            " [     32 3200000]\n",
            " [     35 3500000]\n",
            " [     21 2100000]\n",
            " [     17 1700000]\n",
            " [     40 4000000]\n",
            " [     19 1900000]\n",
            " [     28 2800000]\n",
            " [     34 3400000]\n",
            " [     21 2100000]\n",
            " [     17 1700000]\n",
            " [     32 3200000]\n",
            " [     35 3500000]\n",
            " [     28 2800000]\n",
            " [     17 1700000]\n",
            " [     32 3200000]\n",
            " [     34 3400000]\n",
            " [     39 3900000]\n",
            " [     39 3900000]\n",
            " [     17 1700000]\n",
            " [     39 3900000]\n",
            " [     34 3400000]\n",
            " [     36 3600000]\n",
            " [     35 3500000]\n",
            " [     19 1900000]\n",
            " [     17 1700000]]\n"
          ]
        }
      ]
    },
    {
      "cell_type": "code",
      "source": [
        "print(y_train)"
      ],
      "metadata": {
        "colab": {
          "base_uri": "https://localhost:8080/"
        },
        "id": "aexIbfCtcz0A",
        "outputId": "6c10c93d-4ade-407d-b08f-01877b575818"
      },
      "execution_count": 9,
      "outputs": [
        {
          "output_type": "stream",
          "name": "stdout",
          "text": [
            "[1 0 0 0 0 1 0 1 1 0 0 1 0 1 1 0 0 0 0 0 0 0 1 0 0 0 0 1 1 0 0 0 0 0 0 0 0\n",
            " 0 1 0 0 0 1 0 1 0 0 1 1 0 1 1 0 0 0 0 0 0 0 0 0 0 1 0 1 0 1 0 0 0 0 0 0 1\n",
            " 1 0 1 0 0 1 0 0 0 0 0 1 0 0 1 1 0 0 0 0 1 0 0 0 0 1 1 0 0 0 1 0 0 1 0 0 0\n",
            " 0 1 0 0 1 1 0 0 0 0 0 0 0 0 1 0 0 0 0 0 0 0 0 0 1 0 0 0 1 0 1 0 1 0 1 0 1\n",
            " 1]\n"
          ]
        }
      ]
    },
    {
      "cell_type": "code",
      "source": [
        "print(y_test)"
      ],
      "metadata": {
        "colab": {
          "base_uri": "https://localhost:8080/"
        },
        "id": "uX2sgiE4c6vH",
        "outputId": "5ad99236-0680-432d-d84f-090fa8c316aa"
      },
      "execution_count": 10,
      "outputs": [
        {
          "output_type": "stream",
          "name": "stdout",
          "text": [
            "[0 1 1 0 0 0 0 1 0 0 0 1 1 1 1 0 0 1 1 0 1 0 1 0 1 0 0 0 0 0 0 0 0 0 0 0 0\n",
            " 0 1 0 0 1 0 0 0 1 1 0 1 1]\n"
          ]
        }
      ]
    },
    {
      "cell_type": "code",
      "source": [
        "from sklearn.preprocessing import StandardScaler\n",
        "sc = StandardScaler()\n",
        "x_train = sc.fit_transform(x_train)\n",
        "x_test = sc.transform(x_test)"
      ],
      "metadata": {
        "id": "eOddfnfXc_yp"
      },
      "execution_count": 11,
      "outputs": []
    },
    {
      "cell_type": "code",
      "source": [
        "print(x_train)"
      ],
      "metadata": {
        "colab": {
          "base_uri": "https://localhost:8080/"
        },
        "id": "yntXp3-udDif",
        "outputId": "2532f632-8141-46c4-d745-0d5d2eb28a63"
      },
      "execution_count": 12,
      "outputs": [
        {
          "output_type": "stream",
          "name": "stdout",
          "text": [
            "[[-1.31939793 -0.71244089]\n",
            " [ 0.74033737  0.42821987]\n",
            " [ 1.19805633  0.68170004]\n",
            " [ 1.19805633  0.68170004]\n",
            " [ 1.77020503  0.99855026]\n",
            " [ 0.39704816  0.23810975]\n",
            " [-0.86167898 -0.45896072]\n",
            " [ 0.62590763  0.36484983]\n",
            " [-0.0606708  -0.01537043]\n",
            " [ 1.19805633  0.68170004]\n",
            " [-0.86167898 -0.45896072]\n",
            " [-1.09053845 -0.58570081]\n",
            " [-0.86167898 -1.65665453]\n",
            " [-0.0606708  -0.01537043]\n",
            " [ 0.39704816  0.23810975]\n",
            " [ 1.19805633  0.68170004]\n",
            " [ 0.39704816  0.23810975]\n",
            " [ 0.39704816  0.23810975]\n",
            " [ 0.62590763  0.36484983]\n",
            " [ 0.39704816  0.23810975]\n",
            " [-1.09053845 -0.58570081]\n",
            " [ 1.77020503  0.99855026]\n",
            " [-0.86167898 -0.45896072]\n",
            " [ 0.62590763  0.36484983]\n",
            " [ 0.62590763  0.36484983]\n",
            " [-1.31939793 -0.71244089]\n",
            " [-1.09053845 -0.58570081]\n",
            " [ 1.31248607  0.74507009]\n",
            " [-1.31939793 -0.71244089]\n",
            " [-1.31939793 -0.71244089]\n",
            " [-1.09053845 -0.58570081]\n",
            " [-1.09053845 -0.58570081]\n",
            " [ 0.62590763  0.36484983]\n",
            " [-1.31939793 -0.71244089]\n",
            " [ 0.39704816  0.23810975]\n",
            " [ 0.85476711 -0.20548055]\n",
            " [ 1.77020503  0.99855026]\n",
            " [-0.86167898 -0.45896072]\n",
            " [ 1.19805633  0.68170004]\n",
            " [-1.09053845 -0.58570081]\n",
            " [-0.0606708  -0.01537043]\n",
            " [ 0.39704816  0.23810975]\n",
            " [ 0.62590763  0.36484983]\n",
            " [-0.86167898 -1.65665453]\n",
            " [ 0.39704816  0.23810975]\n",
            " [ 0.39704816  0.23810975]\n",
            " [ 0.74033737  0.42821987]\n",
            " [ 0.62590763  0.36484983]\n",
            " [-1.31939793 -0.71244089]\n",
            " [-1.31939793 -0.71244089]\n",
            " [-0.86167898 -1.65665453]\n",
            " [ 1.08362659  0.61833   ]\n",
            " [-0.86167898 -1.65665453]\n",
            " [ 0.39704816  0.23810975]\n",
            " [ 1.77020503  0.99855026]\n",
            " [ 0.74033737  0.42821987]\n",
            " [ 0.39704816  0.23810975]\n",
            " [-1.31939793 -0.71244089]\n",
            " [ 1.19805633  0.68170004]\n",
            " [ 1.77020503  0.99855026]\n",
            " [-0.0606708  -0.01537043]\n",
            " [ 0.62590763  0.36484983]\n",
            " [ 0.74033737  0.42821987]\n",
            " [-1.09053845 -0.58570081]\n",
            " [-0.86167898 -0.45896072]\n",
            " [ 0.85476711  0.49158992]\n",
            " [-1.31939793 -0.71244089]\n",
            " [ 0.39704816  0.23810975]\n",
            " [ 1.08362659  0.61833   ]\n",
            " [-0.86167898 -1.65665453]\n",
            " [-1.09053845 -0.58570081]\n",
            " [ 0.39704816  0.23810975]\n",
            " [-1.31939793  8.98317561]\n",
            " [-0.86167898 -0.45896072]\n",
            " [ 1.19805633  0.68170004]\n",
            " [ 0.62590763  0.36484983]\n",
            " [ 1.19805633  0.68170004]\n",
            " [ 0.62590763  0.36484983]\n",
            " [-0.86167898 -1.65665453]\n",
            " [ 0.62590763  0.36484983]\n",
            " [-1.09053845 -0.58570081]\n",
            " [ 0.39704816  0.23810975]\n",
            " [-1.31939793 -0.71244089]\n",
            " [ 0.39704816  0.23810975]\n",
            " [-1.31939793 -0.71244089]\n",
            " [ 0.74033737  0.42821987]\n",
            " [-1.31939793 -0.71244089]\n",
            " [-1.09053845 -0.58570081]\n",
            " [ 1.19805633  0.68170004]\n",
            " [ 1.77020503  0.99855026]\n",
            " [ 0.39704816  0.23810975]\n",
            " [ 1.08362659  0.61833   ]\n",
            " [-1.31939793 -0.71244089]\n",
            " [ 0.74033737  0.42821987]\n",
            " [-1.09053845 -0.58570081]\n",
            " [-0.86167898 -0.45896072]\n",
            " [-1.31939793 -0.71244089]\n",
            " [-1.31939793 -0.71244089]\n",
            " [ 0.74033737  0.42821987]\n",
            " [ 0.39704816  0.23810975]\n",
            " [-0.86167898 -1.65665453]\n",
            " [ 0.85476711  0.49158992]\n",
            " [ 0.85476711  0.49158992]\n",
            " [ 0.62590763  0.36484983]\n",
            " [ 0.85476711  0.49158992]\n",
            " [ 1.19805633  0.68170004]\n",
            " [-1.09053845 -0.58570081]\n",
            " [-0.0606708  -0.01537043]\n",
            " [-1.09053845 -0.58570081]\n",
            " [ 0.39704816  0.23810975]\n",
            " [-1.31939793 -0.71244089]\n",
            " [-1.09053845 -0.58570081]\n",
            " [-0.86167898 -1.65665453]\n",
            " [-1.31939793 -0.71244089]\n",
            " [ 0.39704816  0.23810975]\n",
            " [ 0.85476711  0.49158992]\n",
            " [ 0.39704816  0.23810975]\n",
            " [ 0.74033737  0.42821987]\n",
            " [-1.31939793 -0.71244089]\n",
            " [ 1.31248607  0.74507009]\n",
            " [ 1.77020503  0.99855026]\n",
            " [ 0.39704816  0.23810975]\n",
            " [ 1.77020503  0.99855026]\n",
            " [ 0.74033737  0.42821987]\n",
            " [-1.09053845 -0.58570081]\n",
            " [ 0.39704816  0.23810975]\n",
            " [ 0.39704816  0.23810975]\n",
            " [-1.31939793 -0.71244089]\n",
            " [-0.0606708  -0.01537043]\n",
            " [ 0.74033737  0.42821987]\n",
            " [-1.31939793 -0.71244089]\n",
            " [ 0.62590763  0.36484983]\n",
            " [-1.31939793 -0.71244089]\n",
            " [ 0.74033737  0.42821987]\n",
            " [ 0.39704816  0.23810975]\n",
            " [-1.09053845 -0.58570081]\n",
            " [-0.86167898 -0.45896072]\n",
            " [-1.09053845 -0.58570081]\n",
            " [-0.86167898 -0.45896072]\n",
            " [-1.31939793 -0.71244089]\n",
            " [ 0.62590763  0.36484983]\n",
            " [ 0.62590763 -1.7681858 ]\n",
            " [ 0.39704816  0.23810975]\n",
            " [ 0.62590763  0.36484983]\n",
            " [-1.31939793 -0.71244089]\n",
            " [-1.31939793 -0.71244089]\n",
            " [-1.31939793 -0.71244089]\n",
            " [ 0.85476711  0.49158992]\n",
            " [ 1.77020503  0.99855026]]\n"
          ]
        }
      ]
    },
    {
      "cell_type": "code",
      "source": [
        "print(x_test)"
      ],
      "metadata": {
        "colab": {
          "base_uri": "https://localhost:8080/"
        },
        "id": "JocKE-a2dMjm",
        "outputId": "7e94a4be-425c-422e-d116-cf8c236433ee"
      },
      "execution_count": 13,
      "outputs": [
        {
          "output_type": "stream",
          "name": "stdout",
          "text": [
            "[[ 0.62590763 -1.57427347]\n",
            " [ 1.19805633  0.68170004]\n",
            " [ 1.19805633  0.68170004]\n",
            " [ 0.39704816  0.23810975]\n",
            " [ 0.62590763  0.36484983]\n",
            " [ 1.77020503  0.99855026]\n",
            " [ 1.08362659  0.61833   ]\n",
            " [ 1.77020503  0.99855026]\n",
            " [-1.31939793 -1.68200254]\n",
            " [-0.86167898 -0.45896072]\n",
            " [-1.31939793 -0.71244089]\n",
            " [ 0.39704816  0.23810975]\n",
            " [ 0.39704816  0.23810975]\n",
            " [ 0.74033737  0.42821987]\n",
            " [-0.86167898 -0.45896072]\n",
            " [-1.31939793 -0.71244089]\n",
            " [ 0.62590763  0.36484983]\n",
            " [ 1.77020503  0.99855026]\n",
            " [-1.31939793 -0.71244089]\n",
            " [ 0.39704816  0.23810975]\n",
            " [ 1.77020503  0.99855026]\n",
            " [ 0.39704816  0.23810975]\n",
            " [-0.86167898 -0.45896072]\n",
            " [-1.09053845 -0.58570081]\n",
            " [-0.86167898 -0.45896072]\n",
            " [ 0.39704816  0.23810975]\n",
            " [ 0.74033737  0.42821987]\n",
            " [-0.86167898 -0.45896072]\n",
            " [-1.31939793 -0.71244089]\n",
            " [ 1.31248607  0.74507009]\n",
            " [-1.09053845 -0.58570081]\n",
            " [-0.0606708  -0.01537043]\n",
            " [ 0.62590763  0.36484983]\n",
            " [-0.86167898 -0.45896072]\n",
            " [-1.31939793 -0.71244089]\n",
            " [ 0.39704816  0.23810975]\n",
            " [ 0.74033737  0.42821987]\n",
            " [-0.0606708  -0.01537043]\n",
            " [-1.31939793 -0.71244089]\n",
            " [ 0.39704816  0.23810975]\n",
            " [ 0.62590763  0.36484983]\n",
            " [ 1.19805633  0.68170004]\n",
            " [ 1.19805633  0.68170004]\n",
            " [-1.31939793 -0.71244089]\n",
            " [ 1.19805633  0.68170004]\n",
            " [ 0.62590763  0.36484983]\n",
            " [ 0.85476711  0.49158992]\n",
            " [ 0.74033737  0.42821987]\n",
            " [-1.09053845 -0.58570081]\n",
            " [-1.31939793 -0.71244089]]\n"
          ]
        }
      ]
    },
    {
      "cell_type": "code",
      "source": [
        "from sklearn.naive_bayes import GaussianNB\n",
        "classifier = GaussianNB()\n",
        "classifier.fit(x_train, y_train)"
      ],
      "metadata": {
        "colab": {
          "base_uri": "https://localhost:8080/"
        },
        "id": "rhdSy8xtdbgF",
        "outputId": "edced8d1-5a8a-41d0-8d11-b0d078f12229"
      },
      "execution_count": 14,
      "outputs": [
        {
          "output_type": "execute_result",
          "data": {
            "text/plain": [
              "GaussianNB()"
            ]
          },
          "metadata": {},
          "execution_count": 14
        }
      ]
    },
    {
      "cell_type": "code",
      "source": [
        "y_pred = classifier.predict(x_test)"
      ],
      "metadata": {
        "id": "jTJ2VJGWdjYi"
      },
      "execution_count": 15,
      "outputs": []
    },
    {
      "cell_type": "code",
      "source": [
        "from sklearn.metrics import confusion_matrix\n",
        "cm = confusion_matrix(y_test, y_pred)\n",
        "print(cm)"
      ],
      "metadata": {
        "colab": {
          "base_uri": "https://localhost:8080/"
        },
        "id": "XVV6W-72d48n",
        "outputId": "e39ce1c7-ec01-425a-f20d-a5dd90f1fdaa"
      },
      "execution_count": 16,
      "outputs": [
        {
          "output_type": "stream",
          "name": "stdout",
          "text": [
            "[[32  0]\n",
            " [18  0]]\n"
          ]
        }
      ]
    },
    {
      "cell_type": "code",
      "source": [
        "from matplotlib.colors import ListedColormap\n",
        "x_set, y_set = x_train, y_train\n",
        "x1, x2 = np.meshgrid(np.arange(start = x_set[:, 0].min()-1, stop = x_set[:, 0].max() + 1, step=0.01), \n",
        "                     np.arange(start = x_set[:, 1].min()-1, stop = x_set[:, 0].max() + 1, step=0.01))\n",
        "plt.contourf(x1,x2, classifier.predict(np.array([x1.ravel(), x2.ravel()]).T).reshape(x1.shape), \n",
        "             alpha = 0.75, cmap = ListedColormap(('red' , 'green')))\n",
        "plt.xlim(x1.min(), x1.max())\n",
        "plt.xlim(x2.min(), x2.max())\n",
        "for i, j in enumerate (np.unique(y_set)):\n",
        "  plt.scatter(x_set[y_set == j, 0], x_set[y_set==j, 1],\n",
        "              c = ListedColormap(('red', 'green'))(i), label = j)\n",
        "plt.title('Klasifikasi Data dengan Naive Bayes (Data Training)')\n",
        "plt.xlabel('umur')\n",
        "plt.ylabel('Estimasi Gaji')\n",
        "plt.legend()\n",
        "plt.show()"
      ],
      "metadata": {
        "colab": {
          "base_uri": "https://localhost:8080/",
          "height": 352
        },
        "id": "iqd84dc3d-nu",
        "outputId": "306c900d-5c1a-4f0f-bc33-0a70462d5454"
      },
      "execution_count": 17,
      "outputs": [
        {
          "output_type": "stream",
          "name": "stderr",
          "text": [
            "*c* argument looks like a single numeric RGB or RGBA sequence, which should be avoided as value-mapping will have precedence in case its length matches with *x* & *y*.  Please use the *color* keyword-argument or provide a 2-D array with a single row if you intend to specify the same RGB or RGBA value for all points.\n",
            "*c* argument looks like a single numeric RGB or RGBA sequence, which should be avoided as value-mapping will have precedence in case its length matches with *x* & *y*.  Please use the *color* keyword-argument or provide a 2-D array with a single row if you intend to specify the same RGB or RGBA value for all points.\n"
          ]
        },
        {
          "output_type": "display_data",
          "data": {
            "text/plain": [
              "<Figure size 432x288 with 1 Axes>"
            ],
            "image/png": "[encoded data removed]"
          },
          "metadata": {
            "needs_background": "light"
          }
        }
      ]
    },
    {
      "cell_type": "code",
      "source": [
        "from matplotlib.colors import ListedColormap\n",
        "x_set, y_set = x_test, y_test\n",
        "x1, x2 = np.meshgrid(np.arange(start = x_set[:, 0].min()-1, stop = x_set[:, 0].max() + 1, step=0.01), \n",
        "                     np.arange(start = x_set[:, 1].min()-1, stop = x_set[:, 0].max() + 1, step=0.01))\n",
        "plt.contourf(x1,x2, classifier.predict(np.array([x1.ravel(), x2.ravel()]).T).reshape(x1.shape), \n",
        "             alpha = 0.75, cmap = ListedColormap(('red' , 'green')))\n",
        "plt.xlim(x1.min(), x1.max())\n",
        "plt.xlim(x2.min(), x2.max())\n",
        "for i, j in enumerate (np.unique(y_set)):\n",
        "  plt.scatter(x_set[y_set == j, 0], x_set[y_set==j, 1],\n",
        "              c = ListedColormap(('red', 'green'))(i), label = j)\n",
        "plt.title('Klasifikasi Data dengan Naive Bayes (Data Testing)')\n",
        "plt.xlabel('umur')\n",
        "plt.ylabel('Estimasi Gaji')\n",
        "plt.legend()\n",
        "plt.show()"
      ],
      "metadata": {
        "colab": {
          "base_uri": "https://localhost:8080/",
          "height": 352
        },
        "id": "RPun7WobeJmL",
        "outputId": "d7da5ca5-038f-4eff-b689-c0f590fdd799"
      },
      "execution_count": 18,
      "outputs": [
        {
          "output_type": "stream",
          "name": "stderr",
          "text": [
            "*c* argument looks like a single numeric RGB or RGBA sequence, which should be avoided as value-mapping will have precedence in case its length matches with *x* & *y*.  Please use the *color* keyword-argument or provide a 2-D array with a single row if you intend to specify the same RGB or RGBA value for all points.\n",
            "*c* argument looks like a single numeric RGB or RGBA sequence, which should be avoided as value-mapping will have precedence in case its length matches with *x* & *y*.  Please use the *color* keyword-argument or provide a 2-D array with a single row if you intend to specify the same RGB or RGBA value for all points.\n"
          ]
        },
        {
          "output_type": "display_data",
          "data": {
            "text/plain": [
              "<Figure size 432x288 with 1 Axes>"
            ],
            "image/png": "[encoded data removed]"
          },
          "metadata": {
            "needs_background": "light"
          }
        }
      ]
    }
  ]
}